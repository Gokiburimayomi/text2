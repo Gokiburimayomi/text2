{
 "cells": [
  {
   "cell_type": "code",
   "execution_count": 2,
   "id": "ad784f3e",
   "metadata": {},
   "outputs": [
    {
     "name": "stdout",
     "output_type": "stream",
     "text": [
      "pls input unmber1\n",
      "pls input unmber5\n",
      "5\n"
     ]
    }
   ],
   "source": [
    "x=int(input(\"pls input unmber\"))\n",
    "y=int(input(\"pls input unmber\"))\n",
    "X=x*y\n",
    "print(\"Your munber is:\",X)"
   ]
  },
  {
   "cell_type": "code",
   "execution_count": null,
   "id": "31a81a29",
   "metadata": {},
   "outputs": [],
   "source": []
  }
 ],
 "metadata": {
  "kernelspec": {
   "display_name": "Python 3 (ipykernel)",
   "language": "python",
   "name": "python3"
  },
  "language_info": {
   "codemirror_mode": {
    "name": "ipython",
    "version": 3
   },
   "file_extension": ".py",
   "mimetype": "text/x-python",
   "name": "python",
   "nbconvert_exporter": "python",
   "pygments_lexer": "ipython3",
   "version": "3.10.9"
  }
 },
 "nbformat": 4,
 "nbformat_minor": 5
}
